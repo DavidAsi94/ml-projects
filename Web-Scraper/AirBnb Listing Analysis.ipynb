{
 "cells": [
  {
   "cell_type": "markdown",
   "metadata": {
    "id": "v2ZcLq9qltT-"
   },
   "source": [
    "# Assignment 2\n",
    "\n",
    "This notebook contains a set of exercises that will guide you through the different steps of this assignment. The aim of this assignment is to create and save a dataset containing information about different listings in Airbnb. You will then use this dataset during the Artifical Intelligence I course to train a predictive model.\n",
    "\n",
    "<div class=\"alert alert-danger\"><b>Submission deadline:</b> Thursday, December 3, 20:00</div>\n",
    "\n",
    "### Instructions\n",
    "\n",
    "Read carefully the following instructions before starting the exercises.\n",
    "\n",
    "- This notebook is automatically graded. This means that there are several cells embedded into the notebook that take care of checking your code and grading it. It also means that it is important **to follow the instructions for each of the exercises** to make sure that you do everything right.\n",
    "\n",
    "- Write your code in the dedicated cells. You can use as many cells as you like. Just make sure to include all the necessary code **before the corresponding test**.\n",
    "\n",
    "- The tests for the introductory exercises will be open for you to see. This will help you understand how the pipeline works and check that you got the basics right. You can run these checks as many times as you want, **as long as you don't modify them**.  \n",
    "\n",
    "- The tests for the graded exercises will remain hidden. It is important that you **do not write any code, nor do you remove the cells left in blank** for this purpose. \n",
    "\n",
    "- Remember that tests look for specific variable and objects. This means that in order to receive the points for each exercise, you need to **create those objects**.\n",
    "\n",
    "Before moving on, please run the following cell. You only need run it once in order to install the ```nose``` library."
   ]
  },
  {
   "cell_type": "code",
   "execution_count": null,
   "metadata": {
    "colab": {
     "base_uri": "https://localhost:8080/"
    },
    "id": "B18n7w9mltT-",
    "outputId": "8f8ef606-8405-4b84-fe92-e6d142b6c807"
   },
   "outputs": [
    {
     "name": "stdout",
     "output_type": "stream",
     "text": [
      "Requirement already satisfied: nose in /usr/local/lib/python3.6/dist-packages (1.3.7)\n"
     ]
    }
   ],
   "source": [
    "pip install nose"
   ]
  },
  {
   "cell_type": "markdown",
   "metadata": {
    "id": "i4DVvg72ltT_"
   },
   "source": [
    "## Getting started\n",
    "\n",
    "[Airbnb](https://www.airbnb.com/) allows people to rent out their properties on their online platform. Travelers can then book these properties for shorter or longer periods of time. The company was founded in August 2008 in San Francisco, California, and currently has an annual revenue stream of over 2.5 Billion US Dollars. In the US alone, the platform has 660,000 listings.\n",
    "\n",
    "![airbnb](https://www.dropbox.com/s/njll910mmpzm86z/airbnb.png?raw=1)\n",
    "\n",
    "Every individual listing contains a lot of information like the facilities offered, the location, information about the host and reviews. In this assignment you will build a web scrapper to extract information from these listings using Python.\n",
    "\n",
    "![bali](https://www.dropbox.com/s/5gnj4dsv1qmvji5/bali.png?raw=1)\n",
    "\n",
    "The fact that we are confined at home shouldn't prevent us from dreaming we could go somewhere else. So, let's take a look at the different listings available to spend 5 nights in Bali during these Christmas holidays, from December 29 until January 3. You can check the different options available by in the following [link](https://www.airbnb.com/s/Bali--Indonesia/homes?tab_id=home_tab&refinement_paths%5B%5D=%2Fhomes&query=Bali%2C%20Indonesia&place_id=ChIJoQ8Q6NNB0S0RkOYkS7EPkSQ&checkin=2020-12-29&checkout=2021-01-03&source=structured_search_input_header&search_type=autocomplete_click).\n",
    "\n",
    "The whole url has been copied for you below."
   ]
  },
  {
   "cell_type": "code",
   "execution_count": 2,
   "metadata": {
    "id": "MBtwzOBfltT_"
   },
   "outputs": [],
   "source": [
    "url = \"https://www.airbnb.com/s/Bali--Indonesia/homes?tab_id=home_tab&refinement_paths%5B%5D=%2Fhomes&query=Bali%2C%20Indonesia&place_id=ChIJoQ8Q6NNB0S0RkOYkS7EPkSQ&checkin=2020-12-29&checkout=2021-01-03&source=structured_search_input_header&search_type=autocomplete_click\""
   ]
  },
  {
   "cell_type": "markdown",
   "metadata": {
    "id": "YEgAwRKpltT_"
   },
   "source": [
    "Let's begin by making a request to retrieve the HTML code for this website. Since this is an action that you may need to perform several times throughout the assignment, let's encapsulate the corresponding code in a function.\n",
    "\n",
    "<div class=\"alert alert-info\"><b>Exercise 1 </b>Write the code to complete function <i>get_page</i>. This function should take a url as input and return its underlying HTML code as a <b>BeautifulSoup object</b> as output. The required libraries have already been imported for you.</div>"
   ]
  },
  {
   "cell_type": "code",
   "execution_count": 3,
   "metadata": {
    "colab": {
     "base_uri": "https://localhost:8080/"
    },
    "id": "nos2AhzzltT_",
    "outputId": "ff7a6344-dd3f-4f11-9c1b-ff6f0c8c6f2b"
   },
   "outputs": [],
   "source": [
    "import requests\n",
    "import bs4\n",
    "\n",
    "def get_page(url):\n",
    "    web_pages = requests.get(url).text\n",
    "    soup = bs4.BeautifulSoup(web_pages, 'html.parser')\n",
    "    return soup\n",
    "\n",
    "soup = get_page(url)"
   ]
  },
  {
   "cell_type": "markdown",
   "metadata": {
    "id": "YDMsKItYltT_"
   },
   "source": [
    "The following cell runs additional checks to your code. Please **don't write any code here**. Just leave it as it is."
   ]
  },
  {
   "cell_type": "code",
   "execution_count": 3,
   "metadata": {},
   "outputs": [
    {
     "data": {
      "text/plain": [
       "bs4.BeautifulSoup"
      ]
     },
     "execution_count": 3,
     "metadata": {},
     "output_type": "execute_result"
    }
   ],
   "source": [
    "type(soup)"
   ]
  },
  {
   "cell_type": "code",
   "execution_count": null,
   "metadata": {
    "id": "6j-jw3vJltT_"
   },
   "outputs": [],
   "source": [
    "# LEAVE BLANK"
   ]
  },
  {
   "cell_type": "markdown",
   "metadata": {
    "id": "m2zsaeT9ltT_"
   },
   "source": [
    "As you well know, the first step in trying to extract information from a webpage is to check how it is constructed. A brief look at the given webpage shows that the information on the different listings is shown underneath each other in a list form. \n",
    "\n",
    "<img src=\"https://www.dropbox.com/s/jl436b6cc1daent/bali_listing.png?raw=1\" width=\"700\">\n",
    "\n",
    "For every listing a preview image is shown together with some standard information, including a title, a subtitle, the number of guests allowed, the number of bedrooms and bathrooms, the number of beds, information about certain ammenities, the price per night, the total price per stay, the average rating and the number of reviews.\n",
    "\n",
    "<div class=\"alert alert-warning\">For the example shown above, the title would be \"BALIAN TREEHOUSE w beautiful pool\", while the subtitle corresponds to \"Hut in Balian Beach, Bali\".</div>\n",
    "\n",
    "Let's write the code to retrieve these data for each separate listing, let's first identify the separate pieces of code that contain the information for the different results.\n",
    "\n",
    "<div class=\"alert alert-info\"><b>Exercise 2 </b>Write the code to complete function <i>get_listings</i>. This function should take a BeautifulSoup object containing the code for a whole webpage as input and return a <b>list</b> of the individual pieces of code for each listing. Among the different options, select the larger pieces of code that contain a single listing.</div>"
   ]
  },
  {
   "cell_type": "code",
   "execution_count": 4,
   "metadata": {
    "colab": {
     "base_uri": "https://localhost:8080/"
    },
    "id": "Cg7PY3Q7ltT_",
    "outputId": "6240d4fa-fd0e-4f5c-e0e0-6d4b8a5df1d8"
   },
   "outputs": [],
   "source": [
    "def get_listings(soup):\n",
    "    return list(soup.find_all('div', {'class': '_8ssblpx'}))\n",
    "\n",
    "all_listings = get_listings(get_page(url))"
   ]
  },
  {
   "cell_type": "markdown",
   "metadata": {
    "id": "EiBqUsYKltUA"
   },
   "source": [
    "The following cell runs additional checks to your code. Please **don't write any code here**. Just leave it as it is."
   ]
  },
  {
   "cell_type": "code",
   "execution_count": null,
   "metadata": {
    "id": "cMYQzC5vltUA"
   },
   "outputs": [],
   "source": [
    "# LEAVE BLANK"
   ]
  },
  {
   "cell_type": "markdown",
   "metadata": {
    "id": "9lT2c86xltUA"
   },
   "source": [
    "## Retrieving the data\n",
    "\n",
    "Now that you wrote the function to retrieve the code for all the separate listings, let's retrieve separate information for each of them.\n",
    "\n",
    "<div class=\"alert alert-info\"><b>Exercise 3 </b>Write the code to complete function <i>get_listing_title</i>. This function should take a soup object containing the code for an individual listing as input and return a <b>string </b>with its title as output. If no title is listed, then the function should return a <i>None</i> in boolean form.</div>"
   ]
  },
  {
   "cell_type": "code",
   "execution_count": null,
   "metadata": {
    "colab": {
     "base_uri": "https://localhost:8080/",
     "height": 37
    },
    "id": "9l5gnHyAltUA",
    "outputId": "8ac01c89-585b-4e6d-d917-741de810f92b"
   },
   "outputs": [
    {
     "data": {
      "application/vnd.google.colaboratory.intrinsic+json": {
       "type": "string"
      },
      "text/plain": [
       "'LOWER PRICE - Special Offer For Monthly Rental !'"
      ]
     },
     "execution_count": 38,
     "metadata": {
      "tags": []
     },
     "output_type": "execute_result"
    }
   ],
   "source": [
    "def get_listing_title(listing):\n",
    "    try:\n",
    "        return listing.find('div',{'class':'_bzh5lkq'}).text\n",
    "    except:\n",
    "        return None\n",
    "\n",
    "get_listing_title(get_listings(get_page(url))[0])"
   ]
  },
  {
   "cell_type": "markdown",
   "metadata": {
    "id": "S6tkanp8ltUA"
   },
   "source": [
    "The following cell runs additional checks to your code. Please **don't write any code here**. Just leave it as it is."
   ]
  },
  {
   "cell_type": "code",
   "execution_count": null,
   "metadata": {
    "id": "jj7cxrgNltUA"
   },
   "outputs": [],
   "source": [
    "# LEAVE BLANK"
   ]
  },
  {
   "cell_type": "markdown",
   "metadata": {
    "id": "tBG6okJnltUA"
   },
   "source": [
    "<div class=\"alert alert-info\"><b>Exercise 4 </b>Write the code to complete function <i>get_listing_subtitle</i>. This function should take a soup object containing the code for an individual listing as input and return a <b>string</b> with its subtitle as output. If no subtitle is listed, then the function should return a <i>None</i> in boolean form.</div>"
   ]
  },
  {
   "cell_type": "code",
   "execution_count": null,
   "metadata": {
    "colab": {
     "base_uri": "https://localhost:8080/",
     "height": 37
    },
    "id": "odFbMtkKltUA",
    "outputId": "776fcbd6-064e-4f82-dec7-cc8b5aa39db7"
   },
   "outputs": [
    {
     "data": {
      "application/vnd.google.colaboratory.intrinsic+json": {
       "type": "string"
      },
      "text/plain": [
       "'Private room in Canggu'"
      ]
     },
     "execution_count": 39,
     "metadata": {
      "tags": []
     },
     "output_type": "execute_result"
    }
   ],
   "source": [
    "def get_listing_subtitle(listing):\n",
    "    try:\n",
    "        return listing.find('div',{'class':'_167qordg'}).text\n",
    "    except:\n",
    "        return None\n",
    "\n",
    "get_listing_subtitle(get_listings(get_page(url))[19])"
   ]
  },
  {
   "cell_type": "markdown",
   "metadata": {
    "id": "y3Ki_OOBltUB"
   },
   "source": [
    "The following cell runs additional checks to your code. Please **don't write any code here**. Just leave it as it is."
   ]
  },
  {
   "cell_type": "code",
   "execution_count": null,
   "metadata": {
    "id": "ggm6XjPWltUB"
   },
   "outputs": [],
   "source": [
    "# LEAVE BLANK"
   ]
  },
  {
   "cell_type": "markdown",
   "metadata": {
    "id": "v-eBFNqnltUB"
   },
   "source": [
    "Right below each listing's title there's a list of attribute that contains information about the number of guests allowed, the number of bedrooms, the number of beds and the number bathrooms. Let's create a new function that retrieves this information for each separate listing. \n",
    "\n",
    "<div class=\"alert alert-info\"><b>Exercise 5 </b>Write the code to complete function <i>get_listing_info</i>. This function should take a soup object containing the code for an individual listing as input and return a <b>string</b> with the general listing information as output. If no information is provided, then the function should return a <i>None</i> in boolean form.</div>\n",
    "\n",
    "<div class=\"alert alert-warning\">For the example shown above, the function get_listing_info should return a string \"2 guests · 1 bedroom · 1 bed · 1.5 baths\".</div>"
   ]
  },
  {
   "cell_type": "code",
   "execution_count": null,
   "metadata": {
    "colab": {
     "base_uri": "https://localhost:8080/",
     "height": 37
    },
    "id": "QwAlsO_IltUB",
    "outputId": "857530f6-be24-46af-8da9-071541a02559"
   },
   "outputs": [
    {
     "data": {
      "application/vnd.google.colaboratory.intrinsic+json": {
       "type": "string"
      },
      "text/plain": [
       "'2 guests · 1 bedroom · 1 bed · 1 private bath'"
      ]
     },
     "execution_count": 40,
     "metadata": {
      "tags": []
     },
     "output_type": "execute_result"
    }
   ],
   "source": [
    "def get_listing_info(listing):\n",
    "    try:\n",
    "        return listing.find('div',{'class':'_kqh46o'}).text\n",
    "    except:\n",
    "        return None\n",
    "\n",
    "get_listing_info(get_listings(get_page(url))[19])"
   ]
  },
  {
   "cell_type": "markdown",
   "metadata": {
    "id": "A0SihHXUltUB"
   },
   "source": [
    "The following cell runs additional checks to your code. Please **don't write any code here**. Just leave it as it is."
   ]
  },
  {
   "cell_type": "code",
   "execution_count": null,
   "metadata": {
    "id": "QZpIyg_9ltUB"
   },
   "outputs": [],
   "source": [
    "# LEAVE BLANK"
   ]
  },
  {
   "cell_type": "markdown",
   "metadata": {
    "id": "jHM_OQZ_ltUB"
   },
   "source": [
    "Below that information list, there is yet another list that contains information about different ammenities.\n",
    "\n",
    "<div class=\"alert alert-info\"><b>Exercise 6 </b>Write the code to complete function <i>get_listing_ammenities</i>. This function should take a soup object containing the code for an individual listing as input and return a <b>string</b> with the listing ammenities information as output. If no information is provided, then the function should return a <i>None</i> in boolean form.</div>\n",
    "\n",
    "<div class=\"alert alert-warning\">For the example shown above, the function get_listing_ammenities should return a string \"Pool · Wifi · Air conditioning · Kitchen\".</div>"
   ]
  },
  {
   "cell_type": "code",
   "execution_count": null,
   "metadata": {
    "colab": {
     "base_uri": "https://localhost:8080/",
     "height": 37
    },
    "id": "cqUU7E_nltUB",
    "outputId": "c4cc46bc-406e-4eb6-b914-a0e78020d1c8"
   },
   "outputs": [
    {
     "data": {
      "application/vnd.google.colaboratory.intrinsic+json": {
       "type": "string"
      },
      "text/plain": [
       "'Pool · Wifi · Air conditioning'"
      ]
     },
     "execution_count": 41,
     "metadata": {
      "tags": []
     },
     "output_type": "execute_result"
    }
   ],
   "source": [
    "def get_listing_ammenities(listing):\n",
    "    try:\n",
    "        return listing.find_all('div',{'class':'_kqh46o'})[1].text\n",
    "    except:\n",
    "        return None\n",
    "\n",
    "get_listing_ammenities(get_listings(get_page(url))[0])"
   ]
  },
  {
   "cell_type": "markdown",
   "metadata": {
    "id": "PFtvGGhLltUB"
   },
   "source": [
    "The following cell runs additional checks to your code. Please **don't write any code here**. Just leave it as it is."
   ]
  },
  {
   "cell_type": "code",
   "execution_count": null,
   "metadata": {
    "id": "cAWDce1LltUB"
   },
   "outputs": [],
   "source": [
    "# LEAVE BLANK"
   ]
  },
  {
   "cell_type": "markdown",
   "metadata": {
    "id": "x2u1yQanltUB"
   },
   "source": [
    "<div class=\"alert alert-info\"><b>Exercise 7 </b>Write the code to complete function <i>get_listing_rating</i>. This function should take a soup object containing the code for an individual listing as input and return a <b>float</b> with its average rating as output. If no rating is listed, then the function should return a <i>None</i> in boolean form.</div>"
   ]
  },
  {
   "cell_type": "code",
   "execution_count": null,
   "metadata": {
    "colab": {
     "base_uri": "https://localhost:8080/"
    },
    "id": "t7i4h1JxltUB",
    "outputId": "b11fe42a-4d02-423d-e762-61e462b97de6"
   },
   "outputs": [
    {
     "data": {
      "text/plain": [
       "4.58"
      ]
     },
     "execution_count": 42,
     "metadata": {
      "tags": []
     },
     "output_type": "execute_result"
    }
   ],
   "source": [
    "def get_listing_rating(listing):\n",
    "    try:\n",
    "        return float(listing.find('span',{'class':'_10fy1f8'}).text)\n",
    "    except:\n",
    "        return None\n",
    "\n",
    "get_listing_rating(get_listings(get_page(url))[0])"
   ]
  },
  {
   "cell_type": "markdown",
   "metadata": {
    "id": "YQIewyfIltUB"
   },
   "source": [
    "The following cell runs additional checks to your code. Please **don't write any code here**. Just leave it as it is."
   ]
  },
  {
   "cell_type": "code",
   "execution_count": null,
   "metadata": {
    "id": "tkYHYrc-ltUB"
   },
   "outputs": [],
   "source": [
    "# LEAVE BLANK"
   ]
  },
  {
   "cell_type": "markdown",
   "metadata": {
    "id": "V8mf_NW2ltUB"
   },
   "source": [
    "<div class=\"alert alert-info\"><b>Exercise 8 </b>Write the code to complete function <i>get_listing_reviews</i>. This function should take a soup object containing the code for an individual listing as input and return an <b>int</b> with its number of reviews as output. If no reviews are included, then the function should return a <i>None</i> in boolean form.</div>"
   ]
  },
  {
   "cell_type": "code",
   "execution_count": null,
   "metadata": {
    "colab": {
     "base_uri": "https://localhost:8080/"
    },
    "id": "mqGx4KiXqIbw",
    "outputId": "9b52aa14-37a9-4de2-9e27-9bc7a326a9ea"
   },
   "outputs": [
    {
     "data": {
      "text/plain": [
       "39"
      ]
     },
     "execution_count": 43,
     "metadata": {
      "tags": []
     },
     "output_type": "execute_result"
    }
   ],
   "source": [
    "def get_listing_reviews(listing):\n",
    "    try: \n",
    "      return int(listing.find_all('span',{'class':'_krjbj'})[1].text.replace(' reviews',''))\n",
    "    except:\n",
    "      return None\n",
    "\n",
    "get_listing_reviews(get_listings(get_page(url))[0])\n",
    "\n",
    "# url.replace('.com','')"
   ]
  },
  {
   "cell_type": "markdown",
   "metadata": {
    "id": "w5gysAeEltUB"
   },
   "source": [
    "The following cell runs additional checks to your code. Please **don't write any code here**. Just leave it as it is."
   ]
  },
  {
   "cell_type": "code",
   "execution_count": null,
   "metadata": {
    "id": "xN9CjAm_ltUB"
   },
   "outputs": [],
   "source": [
    "# LEAVE BLANK"
   ]
  },
  {
   "cell_type": "markdown",
   "metadata": {
    "id": "oQCHo40hltUC"
   },
   "source": [
    "<div class=\"alert alert-info\"><b>Exercise 9 </b>Write the code to complete function <i>get_listing_price_per_night</i>. This function should take a soup object containing the code for an individual listing as input and return a <b>str</b> with its corresponding price per night. The string should only contain the actual number, nothing else. If no price is listed, then the function should return a <i>None</i> in boolean form.</div>"
   ]
  },
  {
   "cell_type": "code",
   "execution_count": null,
   "metadata": {
    "colab": {
     "base_uri": "https://localhost:8080/",
     "height": 37
    },
    "id": "qXwRMfD2uBAT",
    "outputId": "a4dca66f-0160-4d66-b05f-6034f1c0cc8e"
   },
   "outputs": [
    {
     "data": {
      "application/vnd.google.colaboratory.intrinsic+json": {
       "type": "string"
      },
      "text/plain": [
       "'77'"
      ]
     },
     "execution_count": 45,
     "metadata": {
      "tags": []
     },
     "output_type": "execute_result"
    }
   ],
   "source": [
    "def get_listing_price_per_night(listing):\n",
    "  try:\n",
    "    if 'Discounted Price' in (listing.find('span',{'class':'_1p7iugi'}).text):\n",
    "      return listing.find('span',{'class':'_1p7iugi'}).text.split('Previous price:$')[1].split('Discounted Price')[0]\n",
    "    else:\n",
    "      return listing.find('span',{'class':'_1p7iugi'}).text.split('Price:$')[1]\n",
    "  \n",
    "  except:\n",
    "    return None\n",
    "\n",
    "get_listing_price_per_night(get_listings(get_page(url))[0])"
   ]
  },
  {
   "cell_type": "markdown",
   "metadata": {
    "id": "JAHLAJmhltUC"
   },
   "source": [
    "The following cell runs additional checks to your code. Please **don't write any code here**. Just leave it as it is."
   ]
  },
  {
   "cell_type": "code",
   "execution_count": null,
   "metadata": {
    "id": "YKZ5-0XPltUC"
   },
   "outputs": [],
   "source": [
    "# LEAVE BLANK"
   ]
  },
  {
   "cell_type": "markdown",
   "metadata": {
    "id": "yfEUcdOZltUC"
   },
   "source": [
    "<div class=\"alert alert-info\"><b>Exercise 10 </b>Write the code to complete function <i>get_listing_total_price</i>. This function should take a soup object containing the code for an individual listing as input and return a <b>string</b> with its total price. This string should only contain the actual number, nothing else. If no total price is listed, then the function should return a <i>None</i> in boolean form.</div>"
   ]
  },
  {
   "cell_type": "code",
   "execution_count": null,
   "metadata": {
    "colab": {
     "base_uri": "https://localhost:8080/",
     "height": 37
    },
    "id": "fIQtc3UxltUC",
    "outputId": "817520c5-190d-4d2c-9b3a-57bea469d285"
   },
   "outputs": [
    {
     "data": {
      "application/vnd.google.colaboratory.intrinsic+json": {
       "type": "string"
      },
      "text/plain": [
       "'400'"
      ]
     },
     "execution_count": 47,
     "metadata": {
      "tags": []
     },
     "output_type": "execute_result"
    }
   ],
   "source": [
    "def get_listing_total_price(listing):\n",
    "    try: \n",
    "      return listing.find('button',{'class':'_ebe4pze'}).text.lstrip('$').replace(' totalShow details','')\n",
    "    except:\n",
    "      return None\n",
    "\n",
    "get_listing_total_price(get_listings(get_page(url))[1])"
   ]
  },
  {
   "cell_type": "markdown",
   "metadata": {
    "id": "iPzcPDT2ltUC"
   },
   "source": [
    "The following cell runs additional checks to your code. Please **don't write any code here**. Just leave it as it is."
   ]
  },
  {
   "cell_type": "code",
   "execution_count": null,
   "metadata": {
    "id": "eQ1UoMxTltUC"
   },
   "outputs": [],
   "source": [
    "# LEAVE BLANK"
   ]
  },
  {
   "cell_type": "markdown",
   "metadata": {
    "id": "vVibrHAWltUC"
   },
   "source": [
    "Final thing left to do it to come up with a way to extract the data from all the different pages. At the end of each page, there is a link that allows you to access the next page.\n",
    "\n",
    "<div class=\"alert alert-info\"><b>Exercise 11 </b>Write the code to complete function <i>find_next_page</i>.This function should take a soup object containing the code for an individual page as input and return the <b> complete url</b> for the next page. If there are no more pages left, it should return a <i>None</i> in boolean form. The base_url has already been defined for you.</div>"
   ]
  },
  {
   "cell_type": "code",
   "execution_count": null,
   "metadata": {
    "colab": {
     "base_uri": "https://localhost:8080/",
     "height": 71
    },
    "id": "uXc2dQA0ltUC",
    "outputId": "e140cc31-8549-4cf7-c4b9-4ac4f00deb61"
   },
   "outputs": [
    {
     "data": {
      "application/vnd.google.colaboratory.intrinsic+json": {
       "type": "string"
      },
      "text/plain": [
       "'https://airbnb.com/s/Bali--Indonesia/homes?tab_id=home_tab&checkin=2020-12-29&refinement_paths%5B%5D=%2Fhomes&source=structured_search_input_header&checkout=2021-01-03&search_type=pagination&place_id=ChIJoQ8Q6NNB0S0RkOYkS7EPkSQ&federated_search_session_id=388def72-4d1a-4e57-b5db-d7ba1dcd3772&items_offset=20&section_offset=3'"
      ]
     },
     "execution_count": 48,
     "metadata": {
      "tags": []
     },
     "output_type": "execute_result"
    }
   ],
   "source": [
    "base_url = \"https://airbnb.com\"\n",
    "\n",
    "def find_next_page(page):\n",
    "    try: \n",
    "      url = base_url + page.find('a',{'class':'_za9j7e'})['href']\n",
    "      return url\n",
    "    except:\n",
    "      return None\n",
    "\n",
    "find_next_page(get_page(url))"
   ]
  },
  {
   "cell_type": "markdown",
   "metadata": {
    "id": "Pgrn5LbfltUC"
   },
   "source": [
    "The following cell runs additional checks to your code. Please **don't write any code here**. Just leave it as it is."
   ]
  },
  {
   "cell_type": "code",
   "execution_count": null,
   "metadata": {
    "id": "SWYb8DV1ltUC"
   },
   "outputs": [],
   "source": [
    "# LEAVE BLANK"
   ]
  },
  {
   "cell_type": "markdown",
   "metadata": {
    "id": "X3mYELxMltUC"
   },
   "source": [
    "Great! You now have all the functions you need to retrieve the data for the different listings, for all the different pages. Let's do just that.\n",
    "\n",
    "<div class=\"alert alert-info\"><b>Exercise 12 </b>Write the code to retrieve the data above for all the listings in all the different pages. Store this information in lists called <i>title</i>, <i>subtitle</i>, <i>info</i>, <i>ammenities</i>, <i>rating</i>, <i>reviews</i>, <i>price_per_night</i> and <i>total_price</i>. The lists have already been initialized for you.</div>\n",
    "\n",
    "<div class=\"alert alert-warning\">Take a moment to think how you can reuse all the code you already wrote to solve this exercise. You can of course come up with other ways to do it, but my advice is that you make sure you use all the functions above.</div>"
   ]
  },
  {
   "cell_type": "code",
   "execution_count": null,
   "metadata": {
    "id": "INm9D619I13g"
   },
   "outputs": [],
   "source": [
    "# checking urls\n",
    "urls = []\n",
    "urls.append('https://www.airbnb.com/s/Bali--Indonesia/homes?tab_id=home_tab&refinement_paths%5B%5D=%2Fhomes&query=Bali%2C%20Indonesia&place_id=ChIJoQ8Q6NNB0S0RkOYkS7EPkSQ&checkin=2020-12-29&checkout=2021-01-03&source=structured_search_input_header&search_type=autocomplete_click')\n",
    "\n",
    "for p in range(14):\n",
    "  urls.append(find_next_page(get_page(url)))\n",
    "  url = find_next_page(get_page(url))\n"
   ]
  },
  {
   "cell_type": "code",
   "execution_count": 6,
   "metadata": {
    "colab": {
     "base_uri": "https://localhost:8080/"
    },
    "id": "xm4uG039SyHS",
    "outputId": "1bb6f43d-ca6c-4c42-a428-4f618f411d9a"
   },
   "outputs": [
    {
     "ename": "NameError",
     "evalue": "name 'get_listing_title' is not defined",
     "output_type": "error",
     "traceback": [
      "\u001b[0;31m---------------------------------------------------------------------------\u001b[0m",
      "\u001b[0;31mNameError\u001b[0m                                 Traceback (most recent call last)",
      "\u001b[0;32m<ipython-input-6-d0f6f380e2fe>\u001b[0m in \u001b[0;36m<module>\u001b[0;34m\u001b[0m\n\u001b[1;32m      4\u001b[0m \u001b[0;32mfor\u001b[0m \u001b[0mp\u001b[0m \u001b[0;32min\u001b[0m \u001b[0mrange\u001b[0m\u001b[0;34m(\u001b[0m\u001b[0;36m15\u001b[0m\u001b[0;34m)\u001b[0m\u001b[0;34m:\u001b[0m\u001b[0;34m\u001b[0m\u001b[0;34m\u001b[0m\u001b[0m\n\u001b[1;32m      5\u001b[0m   \u001b[0;32mfor\u001b[0m \u001b[0mi\u001b[0m \u001b[0;32min\u001b[0m \u001b[0mrange\u001b[0m\u001b[0;34m(\u001b[0m\u001b[0;36m20\u001b[0m\u001b[0;34m)\u001b[0m\u001b[0;34m:\u001b[0m\u001b[0;34m\u001b[0m\u001b[0;34m\u001b[0m\u001b[0m\n\u001b[0;32m----> 6\u001b[0;31m     \u001b[0mcheck\u001b[0m\u001b[0;34m.\u001b[0m\u001b[0mappend\u001b[0m\u001b[0;34m(\u001b[0m\u001b[0mget_listing_title\u001b[0m\u001b[0;34m(\u001b[0m\u001b[0mget_listings\u001b[0m\u001b[0;34m(\u001b[0m\u001b[0mget_page\u001b[0m\u001b[0;34m(\u001b[0m\u001b[0murl\u001b[0m\u001b[0;34m)\u001b[0m\u001b[0;34m)\u001b[0m\u001b[0;34m[\u001b[0m\u001b[0mi\u001b[0m\u001b[0;34m]\u001b[0m\u001b[0;34m)\u001b[0m\u001b[0;34m)\u001b[0m\u001b[0;34m\u001b[0m\u001b[0;34m\u001b[0m\u001b[0m\n\u001b[0m\u001b[1;32m      7\u001b[0m   \u001b[0murl\u001b[0m \u001b[0;34m=\u001b[0m \u001b[0mfind_next_page\u001b[0m\u001b[0;34m(\u001b[0m\u001b[0mget_page\u001b[0m\u001b[0;34m(\u001b[0m\u001b[0murl\u001b[0m\u001b[0;34m)\u001b[0m\u001b[0;34m)\u001b[0m\u001b[0;34m\u001b[0m\u001b[0;34m\u001b[0m\u001b[0m\n\u001b[1;32m      8\u001b[0m \u001b[0;34m\u001b[0m\u001b[0m\n",
      "\u001b[0;31mNameError\u001b[0m: name 'get_listing_title' is not defined"
     ]
    }
   ],
   "source": [
    "# example list check\n",
    "check = []\n",
    "url = 'https://www.airbnb.com/s/Bali--Indonesia/homes?tab_id=home_tab&refinement_paths%5B%5D=%2Fhomes&query=Bali%2C%20Indonesia&place_id=ChIJoQ8Q6NNB0S0RkOYkS7EPkSQ&checkin=2020-12-29&checkout=2021-01-03&source=structured_search_input_header&search_type=autocomplete_click'\n",
    "for p in range(15):\n",
    "  for i in range(20):\n",
    "    check.append(get_listing_title(get_listings(get_page(url))[i]))\n",
    "  url = find_next_page(get_page(url))\n",
    "\n"
   ]
  },
  {
   "cell_type": "code",
   "execution_count": null,
   "metadata": {
    "id": "F9D7BXJgltUC"
   },
   "outputs": [],
   "source": [
    "title = []\n",
    "subtitle = []\n",
    "info = []\n",
    "ammenities = []\n",
    "rating = []\n",
    "reviews = []\n",
    "price_per_night = []\n",
    "total_price = []\n",
    "\n",
    "url = \"https://www.airbnb.com/s/Bali--Indonesia/homes?tab_id=home_tab&refinement_paths%5B%5D=%2Fhomes&query=Bali%2C%20Indonesia&place_id=ChIJoQ8Q6NNB0S0RkOYkS7EPkSQ&checkin=2020-12-29&checkout=2021-01-03&source=structured_search_input_header&search_type=autocomplete_click\"\n",
    "\n",
    "for p in range(15):\n",
    "    \n",
    "    for i in range(20):\n",
    "        title.append(get_listing_title(get_listings(get_page(url))[i]))\n",
    "        subtitle.append(get_listing_subtitle(get_listings(get_page(url))[i]))\n",
    "        info.append(get_listing_info(get_listings(get_page(url))[i]))\n",
    "        ammenities.append(get_listing_ammenities(get_listings(get_page(url))[i]))\n",
    "        rating.append(get_listing_rating(get_listings(get_page(url))[i]))\n",
    "        reviews.append(get_listing_reviews(get_listings(get_page(url))[i]))\n",
    "        price_per_night.append(get_listing_price_per_night(get_listings(get_page(url))[i]))\n",
    "        total_price.append(get_listing_total_price(get_listings(get_page(url))[i]))\n",
    "        \n",
    "    url = find_next_page(get_page(url))"
   ]
  },
  {
   "cell_type": "code",
   "execution_count": null,
   "metadata": {
    "colab": {
     "base_uri": "https://localhost:8080/"
    },
    "id": "Qt2x62E35j6k",
    "outputId": "3e8f4c98-90c0-47c1-9346-46b6f56ace45"
   },
   "outputs": [
    {
     "data": {
      "text/plain": [
       "300"
      ]
     },
     "execution_count": 61,
     "metadata": {
      "tags": []
     },
     "output_type": "execute_result"
    }
   ],
   "source": [
    "len(total_price)"
   ]
  },
  {
   "cell_type": "markdown",
   "metadata": {
    "id": "weZKBAO0ltUC"
   },
   "source": [
    "The following cells runs additional checks to your code. Please **don't write any code here**. Just leave them as they are."
   ]
  },
  {
   "cell_type": "code",
   "execution_count": null,
   "metadata": {
    "colab": {
     "background_save": true
    },
    "id": "VpnGgZuwltUC"
   },
   "outputs": [],
   "source": [
    "# LEAVE BLANK"
   ]
  },
  {
   "cell_type": "code",
   "execution_count": null,
   "metadata": {
    "colab": {
     "background_save": true
    },
    "id": "sYFwvN8WltUC"
   },
   "outputs": [],
   "source": [
    "# LEAVE BLANK"
   ]
  },
  {
   "cell_type": "code",
   "execution_count": null,
   "metadata": {
    "colab": {
     "background_save": true
    },
    "id": "36wVztQ0ltUC"
   },
   "outputs": [],
   "source": [
    "# LEAVE BLANK"
   ]
  },
  {
   "cell_type": "code",
   "execution_count": null,
   "metadata": {
    "colab": {
     "background_save": true
    },
    "id": "gseC7HRiltUC"
   },
   "outputs": [],
   "source": [
    "# LEAVE BLANK"
   ]
  },
  {
   "cell_type": "code",
   "execution_count": null,
   "metadata": {
    "colab": {
     "background_save": true
    },
    "id": "FFrYTVBSltUC"
   },
   "outputs": [],
   "source": [
    "# LEAVE BLANK"
   ]
  },
  {
   "cell_type": "code",
   "execution_count": null,
   "metadata": {
    "colab": {
     "background_save": true
    },
    "id": "fKV-VooVltUC"
   },
   "outputs": [],
   "source": [
    "# LEAVE BLANK"
   ]
  },
  {
   "cell_type": "code",
   "execution_count": null,
   "metadata": {
    "colab": {
     "background_save": true
    },
    "id": "gFCeWwtVltUC"
   },
   "outputs": [],
   "source": [
    "# LEAVE BLANK"
   ]
  },
  {
   "cell_type": "code",
   "execution_count": null,
   "metadata": {
    "colab": {
     "background_save": true
    },
    "id": "iHbaobcYltUC"
   },
   "outputs": [],
   "source": [
    "# LEAVE BLANK"
   ]
  },
  {
   "cell_type": "markdown",
   "metadata": {
    "id": "7GUtRnhVltUC"
   },
   "source": [
    "## Saving the data\n",
    "\n",
    "Now that you retrieved all the data the only thing left for you to do is store them in a DataFrame.\n",
    "\n",
    "<div class=\"alert alert-info\"><b>Exercise 13 </b>Write the code to save these data to a DataFrame object called <i>airbnb</i>. The names of the different columns should be equal to those of the lists you just created: <i>title</i>, <i>subtitle</i>, <i>info</i>, <i>ammenities</i>, <i>rating</i>, <i>reviews</i>, <i>price_per_night</i> and <i>total_price</i>. Don't define any index when defining your DataFrame.</div>"
   ]
  },
  {
   "cell_type": "code",
   "execution_count": 78,
   "metadata": {
    "colab": {
     "base_uri": "https://localhost:8080/",
     "height": 589
    },
    "id": "i6Q8jAHyltUC",
    "outputId": "0c5a6a8c-d46e-4bbc-e03d-0bddcf0f708d"
   },
   "outputs": [
    {
     "data": {
      "text/html": [
       "<div>\n",
       "<style scoped>\n",
       "    .dataframe tbody tr th:only-of-type {\n",
       "        vertical-align: middle;\n",
       "    }\n",
       "\n",
       "    .dataframe tbody tr th {\n",
       "        vertical-align: top;\n",
       "    }\n",
       "\n",
       "    .dataframe thead th {\n",
       "        text-align: right;\n",
       "    }\n",
       "</style>\n",
       "<table border=\"1\" class=\"dataframe\">\n",
       "  <thead>\n",
       "    <tr style=\"text-align: right;\">\n",
       "      <th></th>\n",
       "      <th>title</th>\n",
       "      <th>subtitle</th>\n",
       "      <th>info</th>\n",
       "      <th>ammenities</th>\n",
       "      <th>rating</th>\n",
       "      <th>reviews</th>\n",
       "      <th>price_per_night</th>\n",
       "      <th>total_price</th>\n",
       "    </tr>\n",
       "  </thead>\n",
       "  <tbody>\n",
       "    <tr>\n",
       "      <th>0</th>\n",
       "      <td>2BR &amp; Private Pool luxury villa Seminyak</td>\n",
       "      <td>Entire villa in Ketewel</td>\n",
       "      <td>4 guests · 2 bedrooms · 2 beds · 2 baths</td>\n",
       "      <td>Pool · Wifi · Air conditioning · Kitchen</td>\n",
       "      <td>4.58</td>\n",
       "      <td>39.0</td>\n",
       "      <td>None</td>\n",
       "      <td>442</td>\n",
       "    </tr>\n",
       "    <tr>\n",
       "      <th>1</th>\n",
       "      <td>Beautiful villa on the edge of BLUE LAGOON</td>\n",
       "      <td>Entire villa in Nusa Ceningan</td>\n",
       "      <td>2 guests · 1 bedroom · 1 bed · 1 bath</td>\n",
       "      <td>Pool · Wifi · Air conditioning</td>\n",
       "      <td>4.82</td>\n",
       "      <td>310.0</td>\n",
       "      <td>None</td>\n",
       "      <td>442</td>\n",
       "    </tr>\n",
       "    <tr>\n",
       "      <th>2</th>\n",
       "      <td>Ubud Tropical Paradise - Villa Bambu Blue</td>\n",
       "      <td>Entire villa in Kecamatan Ubud</td>\n",
       "      <td>2 guests · 1 bedroom · 1 bed · 1 bath</td>\n",
       "      <td>Pool · Wifi · Air conditioning · Kitchen</td>\n",
       "      <td>4.94</td>\n",
       "      <td>21.0</td>\n",
       "      <td>77</td>\n",
       "      <td>202</td>\n",
       "    </tr>\n",
       "    <tr>\n",
       "      <th>3</th>\n",
       "      <td>Rasa sayang double room 205</td>\n",
       "      <td>Private room in Kecamatan Kuta Utara</td>\n",
       "      <td>2 guests · 1 bedroom · 1 bed · 1 private bath</td>\n",
       "      <td>Pool · Wifi · Air conditioning · Kitchen</td>\n",
       "      <td>NaN</td>\n",
       "      <td>13.0</td>\n",
       "      <td>141</td>\n",
       "      <td>50</td>\n",
       "    </tr>\n",
       "    <tr>\n",
       "      <th>4</th>\n",
       "      <td>The Uma Canggu 2</td>\n",
       "      <td>Entire villa in Kecamatan Ubud</td>\n",
       "      <td>2 guests · 1 bedroom · 1 private bath</td>\n",
       "      <td>Pool · Wifi · Air conditioning</td>\n",
       "      <td>4.81</td>\n",
       "      <td>16.0</td>\n",
       "      <td>11</td>\n",
       "      <td>230</td>\n",
       "    </tr>\n",
       "    <tr>\n",
       "      <th>...</th>\n",
       "      <td>...</td>\n",
       "      <td>...</td>\n",
       "      <td>...</td>\n",
       "      <td>...</td>\n",
       "      <td>...</td>\n",
       "      <td>...</td>\n",
       "      <td>...</td>\n",
       "      <td>...</td>\n",
       "    </tr>\n",
       "    <tr>\n",
       "      <th>295</th>\n",
       "      <td>xxxxxxxElegant Designer 1 BR suite with a tub</td>\n",
       "      <td>Entire bungalow in Bunutan</td>\n",
       "      <td>2 guests · 1 bedroom · 1 bed · 1 private bath</td>\n",
       "      <td>Wifi · Air conditioning</td>\n",
       "      <td>4.67</td>\n",
       "      <td>NaN</td>\n",
       "      <td>319</td>\n",
       "      <td>61</td>\n",
       "    </tr>\n",
       "    <tr>\n",
       "      <th>296</th>\n",
       "      <td>Bagia Bungalows, Large Hill and Mountain View</td>\n",
       "      <td>Entire apartment in Kuta</td>\n",
       "      <td>2 guests · 1 bedroom · 2 beds · 1 bath</td>\n",
       "      <td>Pool · Wifi · Kitchen</td>\n",
       "      <td>4.93</td>\n",
       "      <td>43.0</td>\n",
       "      <td>354</td>\n",
       "      <td>75</td>\n",
       "    </tr>\n",
       "    <tr>\n",
       "      <th>297</th>\n",
       "      <td>Deluxe Private Pool Villa With Stunning Views</td>\n",
       "      <td>Hotel room in Kuta</td>\n",
       "      <td>2 guests · 1 bedroom · 1 bed · 1 private bath</td>\n",
       "      <td>Wifi · Air conditioning</td>\n",
       "      <td>4.89</td>\n",
       "      <td>9.0</td>\n",
       "      <td>13</td>\n",
       "      <td>192</td>\n",
       "    </tr>\n",
       "    <tr>\n",
       "      <th>298</th>\n",
       "      <td>Beachfront Glamping Escape in West Bali</td>\n",
       "      <td>Private room in Kecamatan Kuta Selatan</td>\n",
       "      <td>2 guests · 1 bedroom · 1 bed · 1 bath</td>\n",
       "      <td>Wifi · Air conditioning · Kitchen</td>\n",
       "      <td>5.00</td>\n",
       "      <td>19.0</td>\n",
       "      <td>None</td>\n",
       "      <td>142</td>\n",
       "    </tr>\n",
       "    <tr>\n",
       "      <th>299</th>\n",
       "      <td>Townhouse unit 2</td>\n",
       "      <td>Entire condominium in Kecamatan Mengwi</td>\n",
       "      <td>2 guests · 1 bedroom · 1 bed · 1 bath</td>\n",
       "      <td>Pool · Wifi · Air conditioning · Kitchen</td>\n",
       "      <td>4.58</td>\n",
       "      <td>17.0</td>\n",
       "      <td>None</td>\n",
       "      <td>432</td>\n",
       "    </tr>\n",
       "  </tbody>\n",
       "</table>\n",
       "<p>300 rows × 8 columns</p>\n",
       "</div>"
      ],
      "text/plain": [
       "                                             title  ... total_price\n",
       "0         2BR & Private Pool luxury villa Seminyak  ...         442\n",
       "1       Beautiful villa on the edge of BLUE LAGOON  ...         442\n",
       "2        Ubud Tropical Paradise - Villa Bambu Blue  ...         202\n",
       "3                      Rasa sayang double room 205  ...          50\n",
       "4                                 The Uma Canggu 2  ...         230\n",
       "..                                             ...  ...         ...\n",
       "295  xxxxxxxElegant Designer 1 BR suite with a tub  ...          61\n",
       "296  Bagia Bungalows, Large Hill and Mountain View  ...          75\n",
       "297  Deluxe Private Pool Villa With Stunning Views  ...         192\n",
       "298        Beachfront Glamping Escape in West Bali  ...         142\n",
       "299                               Townhouse unit 2  ...         432\n",
       "\n",
       "[300 rows x 8 columns]"
      ]
     },
     "execution_count": 78,
     "metadata": {
      "tags": []
     },
     "output_type": "execute_result"
    }
   ],
   "source": [
    "import pandas as pd\n",
    "airbnb = pd.DataFrame(data = {'title': title,\n",
    "                          'subtitle': subtitle,\n",
    "                          'info': info,\n",
    "                          'ammenities': ammenities,\n",
    "                          'rating': rating,\n",
    "                          'reviews': reviews,\n",
    "                          'price_per_night': price_per_night,\n",
    "                          'total_price': total_price\n",
    "                         })\n",
    "\n",
    "airbnb\n",
    "# CHECK PRICE PER NIGHT FORMAT | CHECK TOTAL PRICE FORMAT"
   ]
  },
  {
   "cell_type": "markdown",
   "metadata": {
    "id": "2noiVw_zltUC"
   },
   "source": [
    "The following cell runs additional checks to your code. Please **don't write any code here**. Just leave it as it is."
   ]
  },
  {
   "cell_type": "code",
   "execution_count": 79,
   "metadata": {
    "id": "zATuim1wltUC"
   },
   "outputs": [],
   "source": [
    "# LEAVE BLANK"
   ]
  },
  {
   "cell_type": "markdown",
   "metadata": {
    "id": "sSM0C0aJltUC"
   },
   "source": [
    "Finally, save your DataFrame to a csv file by runnign the following cell."
   ]
  },
  {
   "cell_type": "code",
   "execution_count": 80,
   "metadata": {
    "id": "ugxZ8KJCltUC"
   },
   "outputs": [],
   "source": [
    "airbnb.to_csv(\"airbnb.csv\", index=False)"
   ]
  },
  {
   "cell_type": "markdown",
   "metadata": {
    "id": "-ci4MwBwltUC"
   },
   "source": [
    "## Bonus exercises\n",
    "\n",
    "In order to get bonus points, you'll need to redefine the way in which both the info and the ammenities data are stored. For each of this items, you retrieved the whole string containing information about different elements. Let's extract the separate information for each of these elements.\n",
    "\n",
    "<div class=\"alert alert-danger\"><b>Bonus 1 </b>Write the code to retrieve the individual data from the <i>info</i> list. This list should contain information about the number of guests, the number of bedrooms, the number of beds and the number of baths. Store the information for the number of guests, bedrooms and bathrooms in separate lists called <i>guests</i>, <i>bedrooms</i> and <i>baths</i>. The number of guests an dbedrooms should be store in <b>int</b> form, while the number of baths should be a <b>float</b>. The lists have already been initialized for you. If no value is given for any of the items, use a <i>None</i> in boolean form.</div>\n",
    "\n",
    "<div class=\"alert alert-warning\">Say the first element of you <i>info</i> list contains the string \"3 guests · 1 private bedroom · 2 beds · 1 shared bath\", then the first element of your <i>guests</i> list should be equal to 3, the first element of your <i>bedrooms</i> list should be equal to 1 and the first element of your <i>baths</i> list should be equal to 1. Equivalently, if the first element of you <i>info</i> list contains the string \"4 guests · Studio · 2 beds · 1 private bath\", then the first element of your <i>guests</i> list should be equal to 4, the first element of your <i>bedrooms</i> list should be equal to None and the first element of your <i>baths</i> list should be equal to 1.</div>\n",
    "\n",
    "<div class=\"alert alert-warning\">You'll find that, for some reason, certain listings have a very misterious thing called <i>Half-bath</i>. You can either encode those cases using a 0.5 in <b>float</b> form or a <i>None</i> in <b>boolean</b> form.</div>"
   ]
  },
  {
   "cell_type": "code",
   "execution_count": 81,
   "metadata": {
    "id": "t8d4knzdltUC"
   },
   "outputs": [],
   "source": [
    "guests = []\n",
    "bedrooms = []\n",
    "baths = []\n",
    "\n",
    "for n in info:\n",
    "    if 'guests' in n:\n",
    "        guests.append(int(n.split()[0].replace(' guests','')))\n",
    "    else:\n",
    "        guests.append(int(n.split()[0].replace(' guest','')))\n",
    "        \n",
    "for n in info:\n",
    "    if 'Studio' in n:\n",
    "        bedrooms.append(None)\n",
    "    elif 'private bedroom' in n:\n",
    "        bedrooms.append(int(n.split(' · ')[1].replace(' private bedroom','')))\n",
    "    elif 'bedrooms' in n:\n",
    "        bedrooms.append(int(n.split(' · ')[1].replace(' bedrooms','')))\n",
    "    else:\n",
    "        bedrooms.append(int(n.split(' · ')[1].replace(' bedroom','')))\n",
    "        \n",
    "for n in info:\n",
    "    if 'private bath' in n:\n",
    "        baths.append(float(n.split(' · ')[-1].replace(' private bath','')))\n",
    "    elif 'Half-bath' in n:\n",
    "        baths.append(None)\n",
    "    elif 'shared baths' in n:\n",
    "        baths.append(float(n.split(' · ')[-1].replace(' shared baths','')))\n",
    "    elif 'shared bath' in n:\n",
    "        baths.append(float(n.split(' · ')[-1].replace(' shared bath','')))\n",
    "    elif 'baths' in n:\n",
    "        baths.append(float(n.split(' · ')[-1].replace(' baths','')))\n",
    "    elif 'bath' in n:\n",
    "        baths.append(float(n.split(' · ')[-1].replace(' bath','')))\n",
    "    else:\n",
    "        baths.append(None)\n"
   ]
  },
  {
   "cell_type": "code",
   "execution_count": null,
   "metadata": {
    "colab": {
     "base_uri": "https://localhost:8080/"
    },
    "id": "Z0JnMFiTN4Bi",
    "outputId": "74f8ac81-cd18-4be3-8f61-4e4b645bc007"
   },
   "outputs": [
    {
     "data": {
      "text/plain": [
       "300"
      ]
     },
     "execution_count": 75,
     "metadata": {
      "tags": []
     },
     "output_type": "execute_result"
    }
   ],
   "source": [
    "len(guests)"
   ]
  },
  {
   "cell_type": "markdown",
   "metadata": {
    "id": "2aiXPhPTltUC"
   },
   "source": [
    "The following cells runs additional checks to your code. Please **don't write any code here**. Just leave them as they are."
   ]
  },
  {
   "cell_type": "code",
   "execution_count": null,
   "metadata": {
    "colab": {
     "background_save": true
    },
    "id": "Cy_3hUC6ltUC"
   },
   "outputs": [],
   "source": [
    "# LEAVE BLANK"
   ]
  },
  {
   "cell_type": "code",
   "execution_count": null,
   "metadata": {
    "colab": {
     "background_save": true
    },
    "id": "-gEXp3UUltUC"
   },
   "outputs": [],
   "source": [
    "# LEAVE BLANK"
   ]
  },
  {
   "cell_type": "code",
   "execution_count": null,
   "metadata": {
    "colab": {
     "background_save": true
    },
    "id": "2KHgIqWaltUC"
   },
   "outputs": [],
   "source": [
    "# LEAVE BLANK"
   ]
  },
  {
   "cell_type": "markdown",
   "metadata": {
    "id": "Jb-v83ljltUC"
   },
   "source": [
    "Appart from the general information, when searching for the best choice, there might be some specific things we are looking for. I don't know about you, but I would definitely look for a place with a pool, a kitchen, wifi and definitely some air conditioning.\n",
    "\n",
    "<div class=\"alert alert-danger\"><b>Bonus 2 </b>Write the code to retrieve these data from the <i>ammenities</i> list. Remember that this list contains information about the different services that are offered in str form. For each of the 4 ammenities above (wiki, kitchen, air conditioning and pool) create a new list that stores a 1 in <b>int</b> form if the ammenity is present and a 0 in <b>int</b> form otherwise. Store these values in separate lists called <i>wifi</i>, <i>kitchen</i>, <i>air_conditioning</i> and <i>pool</i>. The lists have already been initialized for you. If the values in your <i>ammenities</i> is missing, use a <i>None</i> in boolean form for every individual ammenity.</div>\n",
    "\n",
    "<div class=\"alert alert-warning\">Say the first element of your <i>ammenities</i> list contains the string \"wifi · heating\", then the first element of your <i>wifi</i> list should be equal to 1, the first element of your <i>kitchen</i> list should be equal to 0,  the first element of your <i>air_conditioning</i> list should be equal to 0 and the first element of your <i>pool</i> list should be equal to 1.</div>"
   ]
  },
  {
   "cell_type": "code",
   "execution_count": 93,
   "metadata": {
    "colab": {
     "base_uri": "https://localhost:8080/"
    },
    "id": "DKZ49PI8RMZf",
    "outputId": "cb5a1555-2694-4028-ea91-8f75df56a627"
   },
   "outputs": [
    {
     "data": {
      "text/plain": [
       "['Pool', 'Wifi', 'Air conditioning']"
      ]
     },
     "execution_count": 93,
     "metadata": {
      "tags": []
     },
     "output_type": "execute_result"
    }
   ],
   "source": [
    "ammenities[1].split(' · ')"
   ]
  },
  {
   "cell_type": "code",
   "execution_count": 94,
   "metadata": {
    "colab": {
     "base_uri": "https://localhost:8080/"
    },
    "id": "ryBGkeiVSmlA",
    "outputId": "7a709b42-e222-4580-901d-d55514c050c2"
   },
   "outputs": [
    {
     "data": {
      "text/plain": [
       "True"
      ]
     },
     "execution_count": 94,
     "metadata": {
      "tags": []
     },
     "output_type": "execute_result"
    }
   ],
   "source": [
    "'Pool' in ammenities[1].split(' · ')"
   ]
  },
  {
   "cell_type": "code",
   "execution_count": 108,
   "metadata": {
    "id": "hK24IGkpltUC"
   },
   "outputs": [],
   "source": [
    "wifi = []\n",
    "kitchen = []\n",
    "air_conditioning = []\n",
    "pool = []\n",
    "\n",
    "for n in ammenities:\n",
    "  if n == None:\n",
    "    pool.append(None)\n",
    "  elif 'Pool' in n.split(' · '):\n",
    "    pool.append(int(1))\n",
    "  else:\n",
    "    pool.append(int(0)) \n",
    "\n",
    "for n in ammenities:\n",
    "  if n == None:\n",
    "    wifi.append(None)\n",
    "  elif 'Wifi' in n.split(' · '):\n",
    "    wifi.append(int(1))\n",
    "  else:\n",
    "    wifi.append(int(0))\n",
    "\n",
    "for n in ammenities:\n",
    "  if n == None:\n",
    "    air_conditioning.append(None)\n",
    "  elif 'Air conditioning' in n.split(' · '):\n",
    "    air_conditioning.append(int(1))\n",
    "  else:\n",
    "    air_conditioning.append(int(0))\n",
    "\n",
    "for n in ammenities:\n",
    "  if n == None:\n",
    "    kitchen.append(None)\n",
    "  elif 'Kitchen' in n.split(' · '):\n",
    "    kitchen.append(int(1))\n",
    "  else:\n",
    "    kitchen.append(int(0))\n"
   ]
  },
  {
   "cell_type": "markdown",
   "metadata": {
    "id": "25i6ZF9HltUC"
   },
   "source": [
    "The following cells runs additional checks to your code. Please **don't write any code here**. Just leave them as they are."
   ]
  },
  {
   "cell_type": "code",
   "execution_count": null,
   "metadata": {
    "colab": {
     "background_save": true
    },
    "id": "8C4YywEultUC"
   },
   "outputs": [],
   "source": [
    "# LEAVE BLANK"
   ]
  },
  {
   "cell_type": "code",
   "execution_count": null,
   "metadata": {
    "colab": {
     "background_save": true
    },
    "id": "9ssaoeePltUC"
   },
   "outputs": [],
   "source": [
    "# LEAVE BLANK"
   ]
  },
  {
   "cell_type": "code",
   "execution_count": null,
   "metadata": {
    "colab": {
     "background_save": true
    },
    "id": "x0wefp7zltUC"
   },
   "outputs": [],
   "source": [
    "# LEAVE BLANK"
   ]
  },
  {
   "cell_type": "code",
   "execution_count": null,
   "metadata": {
    "colab": {
     "background_save": true
    },
    "id": "g--p_WKBltUC"
   },
   "outputs": [],
   "source": [
    "# LEAVE BLANK"
   ]
  },
  {
   "cell_type": "markdown",
   "metadata": {
    "id": "M_SF7UGgltUC"
   },
   "source": [
    "<div class=\"alert alert-danger\"><b>Bonus 3 </b>Write the code to save these data to a DataFrame object called <i>airbnb</i>. This time, instead of including the columns <i>info</i> and <i>ammenities</i>, include the lists you created above. The names of the different columns should be equal to those of the lists you just created: <i>title</i>, <i>subtitle</i>, <i>rating</i>, <i>reviews</i>, <i>price_per_night</i>, <i>total_price</i>, <i>guests</i>, <i>bedrooms</i>, <i>baths</i>, <i>wifi</i>, <i>kitchen</i>, <i>air_conditioning</i> and <i>pool</i>. Don't define any index when defining your DataFrame.</div>"
   ]
  },
  {
   "cell_type": "code",
   "execution_count": 110,
   "metadata": {
    "colab": {
     "base_uri": "https://localhost:8080/",
     "height": 589
    },
    "id": "3_7Fe-OeltUC",
    "outputId": "a56e50cd-c40c-49ab-ec15-c58c1ea444e5"
   },
   "outputs": [
    {
     "data": {
      "text/html": [
       "<div>\n",
       "<style scoped>\n",
       "    .dataframe tbody tr th:only-of-type {\n",
       "        vertical-align: middle;\n",
       "    }\n",
       "\n",
       "    .dataframe tbody tr th {\n",
       "        vertical-align: top;\n",
       "    }\n",
       "\n",
       "    .dataframe thead th {\n",
       "        text-align: right;\n",
       "    }\n",
       "</style>\n",
       "<table border=\"1\" class=\"dataframe\">\n",
       "  <thead>\n",
       "    <tr style=\"text-align: right;\">\n",
       "      <th></th>\n",
       "      <th>title</th>\n",
       "      <th>subtitle</th>\n",
       "      <th>rating</th>\n",
       "      <th>reviews</th>\n",
       "      <th>price_per_night</th>\n",
       "      <th>total_price</th>\n",
       "      <th>guests</th>\n",
       "      <th>bedrooms</th>\n",
       "      <th>baths</th>\n",
       "      <th>wifi</th>\n",
       "      <th>kitchen</th>\n",
       "      <th>air_conditioning</th>\n",
       "      <th>pool</th>\n",
       "    </tr>\n",
       "  </thead>\n",
       "  <tbody>\n",
       "    <tr>\n",
       "      <th>0</th>\n",
       "      <td>2BR &amp; Private Pool luxury villa Seminyak</td>\n",
       "      <td>Entire villa in Ketewel</td>\n",
       "      <td>4.58</td>\n",
       "      <td>39.0</td>\n",
       "      <td>None</td>\n",
       "      <td>442</td>\n",
       "      <td>4</td>\n",
       "      <td>2.0</td>\n",
       "      <td>2.0</td>\n",
       "      <td>1.0</td>\n",
       "      <td>1.0</td>\n",
       "      <td>1.0</td>\n",
       "      <td>1.0</td>\n",
       "    </tr>\n",
       "    <tr>\n",
       "      <th>1</th>\n",
       "      <td>Beautiful villa on the edge of BLUE LAGOON</td>\n",
       "      <td>Entire villa in Nusa Ceningan</td>\n",
       "      <td>4.82</td>\n",
       "      <td>310.0</td>\n",
       "      <td>None</td>\n",
       "      <td>442</td>\n",
       "      <td>2</td>\n",
       "      <td>1.0</td>\n",
       "      <td>1.0</td>\n",
       "      <td>1.0</td>\n",
       "      <td>0.0</td>\n",
       "      <td>1.0</td>\n",
       "      <td>1.0</td>\n",
       "    </tr>\n",
       "    <tr>\n",
       "      <th>2</th>\n",
       "      <td>Ubud Tropical Paradise - Villa Bambu Blue</td>\n",
       "      <td>Entire villa in Kecamatan Ubud</td>\n",
       "      <td>4.94</td>\n",
       "      <td>21.0</td>\n",
       "      <td>77</td>\n",
       "      <td>202</td>\n",
       "      <td>2</td>\n",
       "      <td>1.0</td>\n",
       "      <td>1.0</td>\n",
       "      <td>1.0</td>\n",
       "      <td>1.0</td>\n",
       "      <td>1.0</td>\n",
       "      <td>1.0</td>\n",
       "    </tr>\n",
       "    <tr>\n",
       "      <th>3</th>\n",
       "      <td>Rasa sayang double room 205</td>\n",
       "      <td>Private room in Kecamatan Kuta Utara</td>\n",
       "      <td>NaN</td>\n",
       "      <td>13.0</td>\n",
       "      <td>141</td>\n",
       "      <td>50</td>\n",
       "      <td>2</td>\n",
       "      <td>1.0</td>\n",
       "      <td>1.0</td>\n",
       "      <td>1.0</td>\n",
       "      <td>1.0</td>\n",
       "      <td>1.0</td>\n",
       "      <td>1.0</td>\n",
       "    </tr>\n",
       "    <tr>\n",
       "      <th>4</th>\n",
       "      <td>The Uma Canggu 2</td>\n",
       "      <td>Entire villa in Kecamatan Ubud</td>\n",
       "      <td>4.81</td>\n",
       "      <td>16.0</td>\n",
       "      <td>11</td>\n",
       "      <td>230</td>\n",
       "      <td>2</td>\n",
       "      <td>1.0</td>\n",
       "      <td>1.0</td>\n",
       "      <td>1.0</td>\n",
       "      <td>0.0</td>\n",
       "      <td>1.0</td>\n",
       "      <td>1.0</td>\n",
       "    </tr>\n",
       "    <tr>\n",
       "      <th>...</th>\n",
       "      <td>...</td>\n",
       "      <td>...</td>\n",
       "      <td>...</td>\n",
       "      <td>...</td>\n",
       "      <td>...</td>\n",
       "      <td>...</td>\n",
       "      <td>...</td>\n",
       "      <td>...</td>\n",
       "      <td>...</td>\n",
       "      <td>...</td>\n",
       "      <td>...</td>\n",
       "      <td>...</td>\n",
       "      <td>...</td>\n",
       "    </tr>\n",
       "    <tr>\n",
       "      <th>295</th>\n",
       "      <td>xxxxxxxElegant Designer 1 BR suite with a tub</td>\n",
       "      <td>Entire bungalow in Bunutan</td>\n",
       "      <td>4.67</td>\n",
       "      <td>NaN</td>\n",
       "      <td>319</td>\n",
       "      <td>61</td>\n",
       "      <td>2</td>\n",
       "      <td>1.0</td>\n",
       "      <td>1.0</td>\n",
       "      <td>1.0</td>\n",
       "      <td>0.0</td>\n",
       "      <td>1.0</td>\n",
       "      <td>0.0</td>\n",
       "    </tr>\n",
       "    <tr>\n",
       "      <th>296</th>\n",
       "      <td>Bagia Bungalows, Large Hill and Mountain View</td>\n",
       "      <td>Entire apartment in Kuta</td>\n",
       "      <td>4.93</td>\n",
       "      <td>43.0</td>\n",
       "      <td>354</td>\n",
       "      <td>75</td>\n",
       "      <td>2</td>\n",
       "      <td>1.0</td>\n",
       "      <td>1.0</td>\n",
       "      <td>1.0</td>\n",
       "      <td>1.0</td>\n",
       "      <td>0.0</td>\n",
       "      <td>1.0</td>\n",
       "    </tr>\n",
       "    <tr>\n",
       "      <th>297</th>\n",
       "      <td>Deluxe Private Pool Villa With Stunning Views</td>\n",
       "      <td>Hotel room in Kuta</td>\n",
       "      <td>4.89</td>\n",
       "      <td>9.0</td>\n",
       "      <td>13</td>\n",
       "      <td>192</td>\n",
       "      <td>2</td>\n",
       "      <td>1.0</td>\n",
       "      <td>1.0</td>\n",
       "      <td>1.0</td>\n",
       "      <td>0.0</td>\n",
       "      <td>1.0</td>\n",
       "      <td>0.0</td>\n",
       "    </tr>\n",
       "    <tr>\n",
       "      <th>298</th>\n",
       "      <td>Beachfront Glamping Escape in West Bali</td>\n",
       "      <td>Private room in Kecamatan Kuta Selatan</td>\n",
       "      <td>5.00</td>\n",
       "      <td>19.0</td>\n",
       "      <td>None</td>\n",
       "      <td>142</td>\n",
       "      <td>2</td>\n",
       "      <td>1.0</td>\n",
       "      <td>1.0</td>\n",
       "      <td>1.0</td>\n",
       "      <td>1.0</td>\n",
       "      <td>1.0</td>\n",
       "      <td>0.0</td>\n",
       "    </tr>\n",
       "    <tr>\n",
       "      <th>299</th>\n",
       "      <td>Townhouse unit 2</td>\n",
       "      <td>Entire condominium in Kecamatan Mengwi</td>\n",
       "      <td>4.58</td>\n",
       "      <td>17.0</td>\n",
       "      <td>None</td>\n",
       "      <td>432</td>\n",
       "      <td>2</td>\n",
       "      <td>1.0</td>\n",
       "      <td>1.0</td>\n",
       "      <td>1.0</td>\n",
       "      <td>1.0</td>\n",
       "      <td>1.0</td>\n",
       "      <td>1.0</td>\n",
       "    </tr>\n",
       "  </tbody>\n",
       "</table>\n",
       "<p>300 rows × 13 columns</p>\n",
       "</div>"
      ],
      "text/plain": [
       "                                             title  ... pool\n",
       "0         2BR & Private Pool luxury villa Seminyak  ...  1.0\n",
       "1       Beautiful villa on the edge of BLUE LAGOON  ...  1.0\n",
       "2        Ubud Tropical Paradise - Villa Bambu Blue  ...  1.0\n",
       "3                      Rasa sayang double room 205  ...  1.0\n",
       "4                                 The Uma Canggu 2  ...  1.0\n",
       "..                                             ...  ...  ...\n",
       "295  xxxxxxxElegant Designer 1 BR suite with a tub  ...  0.0\n",
       "296  Bagia Bungalows, Large Hill and Mountain View  ...  1.0\n",
       "297  Deluxe Private Pool Villa With Stunning Views  ...  0.0\n",
       "298        Beachfront Glamping Escape in West Bali  ...  0.0\n",
       "299                               Townhouse unit 2  ...  1.0\n",
       "\n",
       "[300 rows x 13 columns]"
      ]
     },
     "execution_count": 110,
     "metadata": {
      "tags": []
     },
     "output_type": "execute_result"
    }
   ],
   "source": [
    "airbnb = pd.DataFrame(data = {'title': title,\n",
    "                          'subtitle': subtitle,\n",
    "                          'rating': rating,\n",
    "                          'reviews': reviews,\n",
    "                          'price_per_night': price_per_night,\n",
    "                          'total_price': total_price,\n",
    "                          'guests':guests,\n",
    "                          'bedrooms':bedrooms,\n",
    "                          'baths':baths,\n",
    "                          'wifi':wifi,\n",
    "                          'kitchen':kitchen,\n",
    "                          'air_conditioning':air_conditioning,\n",
    "                          'pool':pool\n",
    "                         })\n",
    "airbnb"
   ]
  },
  {
   "cell_type": "markdown",
   "metadata": {
    "id": "Xc941e0VltUC"
   },
   "source": [
    "The following cell runs additional checks to your code. Please **don't write any code here**. Just leave it as it is."
   ]
  },
  {
   "cell_type": "code",
   "execution_count": null,
   "metadata": {
    "colab": {
     "background_save": true
    },
    "id": "uRpF6HOkltUC"
   },
   "outputs": [],
   "source": [
    "# LEAVE BLANK"
   ]
  },
  {
   "cell_type": "markdown",
   "metadata": {
    "id": "JKJLBOdUltUC"
   },
   "source": [
    "Once you are done update the file storign your previous data with the new information."
   ]
  },
  {
   "cell_type": "code",
   "execution_count": 111,
   "metadata": {
    "id": "Su44nhuAltUC"
   },
   "outputs": [],
   "source": [
    "airbnb.to_csv(\"airbnb.csv\")"
   ]
  }
 ],
 "metadata": {
  "colab": {
   "name": "CloudComputing2020_A2.ipynb",
   "provenance": []
  },
  "kernelspec": {
   "display_name": "Python 3",
   "language": "python",
   "name": "python3"
  },
  "language_info": {
   "codemirror_mode": {
    "name": "ipython",
    "version": 3
   },
   "file_extension": ".py",
   "mimetype": "text/x-python",
   "name": "python",
   "nbconvert_exporter": "python",
   "pygments_lexer": "ipython3",
   "version": "3.8.3"
  }
 },
 "nbformat": 4,
 "nbformat_minor": 1
}
