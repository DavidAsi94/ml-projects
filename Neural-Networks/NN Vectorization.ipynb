{
 "cells": [
  {
   "cell_type": "code",
   "execution_count": 1,
   "metadata": {},
   "outputs": [],
   "source": [
    "import numpy as np"
   ]
  },
  {
   "cell_type": "markdown",
   "metadata": {},
   "source": [
    "### Rank 1 array issue\n",
    "Do not use rank 1 arrays, but instead compute a column vector / matrix or a row vector."
   ]
  },
  {
   "cell_type": "code",
   "execution_count": 2,
   "metadata": {},
   "outputs": [],
   "source": [
    "# Create 5 random gaussian variables in array a\n",
    "a = np.random.randn(5)"
   ]
  },
  {
   "cell_type": "code",
   "execution_count": 3,
   "metadata": {},
   "outputs": [
    {
     "name": "stdout",
     "output_type": "stream",
     "text": [
      "[-0.93785766 -0.31467646 -0.22475363  0.70553048  0.55830967]\n"
     ]
    }
   ],
   "source": [
    "print(a)"
   ]
  },
  {
   "cell_type": "code",
   "execution_count": 4,
   "metadata": {},
   "outputs": [
    {
     "name": "stdout",
     "output_type": "stream",
     "text": [
      "(5,)\n"
     ]
    }
   ],
   "source": [
    "print(a.shape) # Rank 1 array, not 1-by-5 array!. Leads to non-intuitive results"
   ]
  },
  {
   "cell_type": "code",
   "execution_count": 5,
   "metadata": {},
   "outputs": [
    {
     "name": "stdout",
     "output_type": "stream",
     "text": [
      "[-0.93785766 -0.31467646 -0.22475363  0.70553048  0.55830967]\n"
     ]
    }
   ],
   "source": [
    "print(a.T) # a Transpose returns same array"
   ]
  },
  {
   "cell_type": "code",
   "execution_count": 6,
   "metadata": {},
   "outputs": [
    {
     "name": "stdout",
     "output_type": "stream",
     "text": [
      "1.8385954059052163\n"
     ]
    }
   ],
   "source": [
    "print(np.dot(a,a.T))"
   ]
  },
  {
   "cell_type": "code",
   "execution_count": 8,
   "metadata": {},
   "outputs": [
    {
     "name": "stdout",
     "output_type": "stream",
     "text": [
      "[[ 0.03611413]\n",
      " [-1.39583869]\n",
      " [-0.24704314]\n",
      " [-0.70811227]\n",
      " [ 1.56996767]]\n"
     ]
    }
   ],
   "source": [
    "a = np.random.randn(5,1)  # 1 by 5 matrix\n",
    "print(a)"
   ]
  },
  {
   "cell_type": "code",
   "execution_count": 9,
   "metadata": {},
   "outputs": [
    {
     "name": "stdout",
     "output_type": "stream",
     "text": [
      "[[ 0.03611413 -1.39583869 -0.24704314 -0.70811227  1.56996767]]\n"
     ]
    }
   ],
   "source": [
    "print(a.T)  # a Transpose is a row vector now"
   ]
  },
  {
   "cell_type": "code",
   "execution_count": 10,
   "metadata": {},
   "outputs": [
    {
     "name": "stdout",
     "output_type": "stream",
     "text": [
      "[[ 1.30423074e-03 -5.04095069e-02 -8.92174918e-03 -2.55728620e-02\n",
      "   5.66980244e-02]\n",
      " [-5.04095069e-02  1.94836565e+00  3.44832369e-01  9.88410501e-01\n",
      "  -2.19142162e+00]\n",
      " [-8.92174918e-03  3.44832369e-01  6.10303114e-02  1.74934276e-01\n",
      "  -3.87849738e-01]\n",
      " [-2.55728620e-02  9.88410501e-01  1.74934276e-01  5.01422983e-01\n",
      "  -1.11171337e+00]\n",
      " [ 5.66980244e-02 -2.19142162e+00 -3.87849738e-01 -1.11171337e+00\n",
      "   2.46479849e+00]]\n"
     ]
    }
   ],
   "source": [
    "print(np.dot(a,a.T)) # Product between a and a Transpose -> gives outer product of the vector"
   ]
  },
  {
   "cell_type": "code",
   "execution_count": 13,
   "metadata": {},
   "outputs": [],
   "source": [
    "assert(a.shape == (5,1))   # Use assertion statements to check whether data fits desired format."
   ]
  },
  {
   "cell_type": "code",
   "execution_count": 14,
   "metadata": {},
   "outputs": [],
   "source": [
    "a = np.random.randn(12288, 150) # a.shape = (12288, 150)\n",
    "b = np.random.randn(150, 45) # b.shape = (150, 45)\n",
    "c = np.dot(a,b)"
   ]
  },
  {
   "cell_type": "code",
   "execution_count": 15,
   "metadata": {},
   "outputs": [
    {
     "data": {
      "text/plain": [
       "(12288, 45)"
      ]
     },
     "execution_count": 15,
     "metadata": {},
     "output_type": "execute_result"
    }
   ],
   "source": [
    "c.shape"
   ]
  },
  {
   "cell_type": "code",
   "execution_count": 16,
   "metadata": {},
   "outputs": [
    {
     "name": "stdout",
     "output_type": "stream",
     "text": [
      "[[ 0.48163983 -0.1593506   1.73473511]\n",
      " [-0.0518873  -0.12839794  0.06386926]\n",
      " [-1.30368884  0.7107199   2.65749643]]\n"
     ]
    }
   ],
   "source": [
    "a = np.random.randn(3, 3)\n",
    "b = np.random.randn(3, 1)\n",
    "c = a*b\n",
    "print(c)"
   ]
  },
  {
   "cell_type": "code",
   "execution_count": 17,
   "metadata": {},
   "outputs": [
    {
     "data": {
      "text/plain": [
       "(3, 3)"
      ]
     },
     "execution_count": 17,
     "metadata": {},
     "output_type": "execute_result"
    }
   ],
   "source": [
    "c.shape"
   ]
  },
  {
   "cell_type": "code",
   "execution_count": null,
   "metadata": {},
   "outputs": [],
   "source": []
  }
 ],
 "metadata": {
  "kernelspec": {
   "display_name": "Python 3",
   "language": "python",
   "name": "python3"
  },
  "language_info": {
   "codemirror_mode": {
    "name": "ipython",
    "version": 3
   },
   "file_extension": ".py",
   "mimetype": "text/x-python",
   "name": "python",
   "nbconvert_exporter": "python",
   "pygments_lexer": "ipython3",
   "version": "3.8.3"
  }
 },
 "nbformat": 4,
 "nbformat_minor": 4
}
